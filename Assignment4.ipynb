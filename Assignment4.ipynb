{
 "cells": [
  {
   "cell_type": "markdown",
   "metadata": {},
   "source": [
    "1.1 Write a Python Program(with class concepts) to find the area of the triangle using the below\n",
    "formula.\n",
    "\n",
    "area = (s*(s-a)*(s-b)*(s-c)) ** 0.5\n",
    "\n",
    "Function to take the length of the sides of triangle from user should be defined in the parent\n",
    "class and function to calculate the area should be defined in subclass.\n"
   ]
  },
  {
   "cell_type": "code",
   "execution_count": 42,
   "metadata": {},
   "outputs": [
    {
     "name": "stdout",
     "output_type": "stream",
     "text": [
      "1st side of triange : 10\n",
      "2nd side of triange : 20\n",
      "3rd side of triange : 30\n",
      "area of triangle is :1800000.0\n"
     ]
    }
   ],
   "source": [
    "class Parent:\n",
    "    def __init__(self,a,b,c):\n",
    "        self.s1=a\n",
    "        self.s2=b\n",
    "        self.s3=c\n",
    "\n",
    "class subclass(Parent):\n",
    "    def __init__(self,*args):\n",
    "        super(subclass,self).__init__(*args)\n",
    "        \n",
    "    def calculate_area(self):\n",
    "        s1=int(self.s1)        \n",
    "        s2=int(self.s2)\n",
    "        s3=int(self.s3)\n",
    "        s=(s1+s2+s3)\n",
    "        area =(s*(s-s1)*(s-s2)*(s-s3))*0.5\n",
    "        return area\n",
    "        \n",
    "        \n",
    "        \n",
    "        \n",
    "   \n",
    "        \n",
    "    \n",
    "    \n",
    "        \n",
    "a=input(\"1st side of triange : \")\n",
    "b=input(\"2nd side of triange : \")\n",
    "c=input(\"3rd side of triange : \")\n",
    "\n",
    "T=subclass(a,b,c)\n",
    "#.calculate_area()\n",
    "print(\"area of triangle is :\"+ str(T.calculate_area()))\n",
    "\n",
    "\n",
    "        \n",
    "        \n",
    "        "
   ]
  },
  {
   "cell_type": "markdown",
   "metadata": {},
   "source": [
    "1.2 Write a function filter_long_words() that takes a list of words and an integer n and returns\n",
    "the list of words that are longer than n."
   ]
  },
  {
   "cell_type": "code",
   "execution_count": 4,
   "metadata": {},
   "outputs": [
    {
     "data": {
      "text/plain": [
       "['Subhadip', 'AAditya', 'Dipika', 'Shyamal']"
      ]
     },
     "execution_count": 4,
     "metadata": {},
     "output_type": "execute_result"
    }
   ],
   "source": [
    "l= [\"Subhadip\", \"AAditya\", \"Dipika\",\"Shyamal\", \"Reba\"]\n",
    "\n",
    "def filter_long_words(list_of_word,length):\n",
    "    list_return = list()\n",
    "    for i in list_of_word :\n",
    "        if len(i)>length:\n",
    "            list_return.append(i)\n",
    "    return list_return\n",
    "\n",
    "filter_long_words(l,4)            \n",
    "\n"
   ]
  },
  {
   "cell_type": "markdown",
   "metadata": {},
   "source": [
    "2.1 Write a Python program using function concept that maps list of words into a list of integers\n",
    "representing the lengths of the corresponding words.\n",
    "\n",
    "Hint: If a list [ ab,cde,erty] is passed on to the python function output should come as [2,3,4]\n",
    "Here 2,3 and 4 are the lengths of the words in the list.\n"
   ]
  },
  {
   "cell_type": "code",
   "execution_count": 11,
   "metadata": {},
   "outputs": [
    {
     "data": {
      "text/plain": [
       "[8, 7, 6, 7, 4]"
      ]
     },
     "execution_count": 11,
     "metadata": {},
     "output_type": "execute_result"
    }
   ],
   "source": [
    "l= [\"Subhadip\", \"AAditya\", \"Dipika\",\"Shyamal\", \"Reba\"]\n",
    "def check_length (s):\n",
    "    return len(s)\n",
    "# list(map(check_length,l))\n",
    "\n",
    "def list_length(list_of_word):\n",
    "    list_return = list()\n",
    "    for i in list_of_word :\n",
    "        list_return.append(len(i))\n",
    "    return list_return\n",
    "\n",
    "list_length(l)\n"
   ]
  },
  {
   "cell_type": "markdown",
   "metadata": {},
   "source": [
    "2.2 Write a Python function which takes a character (i.e. a string of length 1) and returns True if\n",
    "it is a vowel, False otherwise."
   ]
  },
  {
   "cell_type": "code",
   "execution_count": 24,
   "metadata": {},
   "outputs": [
    {
     "name": "stdout",
     "output_type": "stream",
     "text": [
      "input a chracter :  q\n",
      "False\n"
     ]
    }
   ],
   "source": [
    "vawel=['A','E','I','O','U']\n",
    "\n",
    "def check_vawel(c):\n",
    "    if vawel.count(c.upper()) ==1:\n",
    "        return True\n",
    "    else:\n",
    "        return False\n",
    "    \n",
    "\n",
    "i = input(\"input a chracter :  \")\n",
    "print(check_vawel(i))\n",
    "\n",
    "    "
   ]
  },
  {
   "cell_type": "code",
   "execution_count": null,
   "metadata": {},
   "outputs": [],
   "source": []
  },
  {
   "cell_type": "code",
   "execution_count": null,
   "metadata": {},
   "outputs": [],
   "source": []
  }
 ],
 "metadata": {
  "kernelspec": {
   "display_name": "Python 3",
   "language": "python",
   "name": "python3"
  },
  "language_info": {
   "codemirror_mode": {
    "name": "ipython",
    "version": 3
   },
   "file_extension": ".py",
   "mimetype": "text/x-python",
   "name": "python",
   "nbconvert_exporter": "python",
   "pygments_lexer": "ipython3",
   "version": "3.7.6"
  }
 },
 "nbformat": 4,
 "nbformat_minor": 4
}
